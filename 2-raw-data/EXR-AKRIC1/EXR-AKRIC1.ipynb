{
 "cells": [
  {
   "cell_type": "code",
   "execution_count": 1,
   "metadata": {},
   "outputs": [],
   "source": [
    "library(data.table)"
   ]
  },
  {
   "cell_type": "code",
   "execution_count": 2,
   "metadata": {},
   "outputs": [
    {
     "data": {
      "text/html": [
       "<ol class=list-inline>\n",
       "\t<li>'CORE_RESULTS'</li>\n",
       "\t<li>'EXR-AKRIC1-metadata'</li>\n",
       "\t<li>'EXR-AKRIC1.ipynb'</li>\n",
       "\t<li>'exRNA_Atlas_Biosample_Metadata_Downloads_Fri-Jun-14-2019-15_05_20-GMT-0400-_EDT_.tsv'</li>\n",
       "\t<li>'exRNA_Atlas_CORE_Results_Downloads_Fri-Jun-14-2019-15_05_39-GMT-0400-_EDT_.tsv'</li>\n",
       "\t<li>'exRNA_Atlas_Donor_Metadata_Downloads_Fri-Jun-14-2019-15_05_28-GMT-0400-_EDT_.tsv'</li>\n",
       "\t<li>'exRNA_Atlas_Experiment_Metadata_Downloads_Fri-Jun-14-2019-15_05_24-GMT-0400-_EDT_.tsv'</li>\n",
       "\t<li>'exRNA_Atlas_FASTQ_Downloads_Fri-Jun-14-2019-15_05_47-GMT-0400-(EDT).tsv'</li>\n",
       "</ol>\n"
      ],
      "text/latex": [
       "\\begin{enumerate*}\n",
       "\\item 'CORE\\_RESULTS'\n",
       "\\item 'EXR-AKRIC1-metadata'\n",
       "\\item 'EXR-AKRIC1.ipynb'\n",
       "\\item 'exRNA\\_Atlas\\_Biosample\\_Metadata\\_Downloads\\_Fri-Jun-14-2019-15\\_05\\_20-GMT-0400-\\_EDT\\_.tsv'\n",
       "\\item 'exRNA\\_Atlas\\_CORE\\_Results\\_Downloads\\_Fri-Jun-14-2019-15\\_05\\_39-GMT-0400-\\_EDT\\_.tsv'\n",
       "\\item 'exRNA\\_Atlas\\_Donor\\_Metadata\\_Downloads\\_Fri-Jun-14-2019-15\\_05\\_28-GMT-0400-\\_EDT\\_.tsv'\n",
       "\\item 'exRNA\\_Atlas\\_Experiment\\_Metadata\\_Downloads\\_Fri-Jun-14-2019-15\\_05\\_24-GMT-0400-\\_EDT\\_.tsv'\n",
       "\\item 'exRNA\\_Atlas\\_FASTQ\\_Downloads\\_Fri-Jun-14-2019-15\\_05\\_47-GMT-0400-(EDT).tsv'\n",
       "\\end{enumerate*}\n"
      ],
      "text/markdown": [
       "1. 'CORE_RESULTS'\n",
       "2. 'EXR-AKRIC1-metadata'\n",
       "3. 'EXR-AKRIC1.ipynb'\n",
       "4. 'exRNA_Atlas_Biosample_Metadata_Downloads_Fri-Jun-14-2019-15_05_20-GMT-0400-_EDT_.tsv'\n",
       "5. 'exRNA_Atlas_CORE_Results_Downloads_Fri-Jun-14-2019-15_05_39-GMT-0400-_EDT_.tsv'\n",
       "6. 'exRNA_Atlas_Donor_Metadata_Downloads_Fri-Jun-14-2019-15_05_28-GMT-0400-_EDT_.tsv'\n",
       "7. 'exRNA_Atlas_Experiment_Metadata_Downloads_Fri-Jun-14-2019-15_05_24-GMT-0400-_EDT_.tsv'\n",
       "8. 'exRNA_Atlas_FASTQ_Downloads_Fri-Jun-14-2019-15_05_47-GMT-0400-(EDT).tsv'\n",
       "\n",
       "\n"
      ],
      "text/plain": [
       "[1] \"CORE_RESULTS\"                                                                         \n",
       "[2] \"EXR-AKRIC1-metadata\"                                                                  \n",
       "[3] \"EXR-AKRIC1.ipynb\"                                                                     \n",
       "[4] \"exRNA_Atlas_Biosample_Metadata_Downloads_Fri-Jun-14-2019-15_05_20-GMT-0400-_EDT_.tsv\" \n",
       "[5] \"exRNA_Atlas_CORE_Results_Downloads_Fri-Jun-14-2019-15_05_39-GMT-0400-_EDT_.tsv\"       \n",
       "[6] \"exRNA_Atlas_Donor_Metadata_Downloads_Fri-Jun-14-2019-15_05_28-GMT-0400-_EDT_.tsv\"     \n",
       "[7] \"exRNA_Atlas_Experiment_Metadata_Downloads_Fri-Jun-14-2019-15_05_24-GMT-0400-_EDT_.tsv\"\n",
       "[8] \"exRNA_Atlas_FASTQ_Downloads_Fri-Jun-14-2019-15_05_47-GMT-0400-(EDT).tsv\"              "
      ]
     },
     "metadata": {},
     "output_type": "display_data"
    }
   ],
   "source": [
    "list.files()"
   ]
  },
  {
   "cell_type": "code",
   "execution_count": 3,
   "metadata": {},
   "outputs": [],
   "source": [
    "library(curl)\n",
    "library(data.table)\n",
    "\n",
    "download.linked.files <- function(list.filename) {\n",
    "    temp = fread(list.filename)\n",
    "    \n",
    "    # column 1 has filename, column 2 has url \n",
    "    for (i in 1:length(temp)) {\n",
    "        filename = temp[i][[1]]\n",
    "        url = temp[i][[2]]\n",
    "        if (!file.exists(filename)) {\n",
    "            cat(url, filename, '\\n')\n",
    "            curl_download(url, filename)\n",
    "        }\n",
    "    }\n",
    "}"
   ]
  },
  {
   "cell_type": "code",
   "execution_count": 12,
   "metadata": {},
   "outputs": [
    {
     "data": {
      "text/html": [
       "<ol class=list-inline>\n",
       "\t<li>'exRNA_Atlas_Biosample_Metadata_Downloads_Fri-Jun-14-2019-15_05_20-GMT-0400-_EDT_.tsv'</li>\n",
       "\t<li>'exRNA_Atlas_CORE_Results_Downloads_Fri-Jun-14-2019-15_05_39-GMT-0400-_EDT_.tsv'</li>\n",
       "\t<li>'exRNA_Atlas_Donor_Metadata_Downloads_Fri-Jun-14-2019-15_05_28-GMT-0400-_EDT_.tsv'</li>\n",
       "\t<li>'exRNA_Atlas_Experiment_Metadata_Downloads_Fri-Jun-14-2019-15_05_24-GMT-0400-_EDT_.tsv'</li>\n",
       "\t<li>'exRNA_Atlas_FASTQ_Downloads_Fri-Jun-14-2019-15_05_47-GMT-0400-(EDT).tsv'</li>\n",
       "</ol>\n"
      ],
      "text/latex": [
       "\\begin{enumerate*}\n",
       "\\item 'exRNA\\_Atlas\\_Biosample\\_Metadata\\_Downloads\\_Fri-Jun-14-2019-15\\_05\\_20-GMT-0400-\\_EDT\\_.tsv'\n",
       "\\item 'exRNA\\_Atlas\\_CORE\\_Results\\_Downloads\\_Fri-Jun-14-2019-15\\_05\\_39-GMT-0400-\\_EDT\\_.tsv'\n",
       "\\item 'exRNA\\_Atlas\\_Donor\\_Metadata\\_Downloads\\_Fri-Jun-14-2019-15\\_05\\_28-GMT-0400-\\_EDT\\_.tsv'\n",
       "\\item 'exRNA\\_Atlas\\_Experiment\\_Metadata\\_Downloads\\_Fri-Jun-14-2019-15\\_05\\_24-GMT-0400-\\_EDT\\_.tsv'\n",
       "\\item 'exRNA\\_Atlas\\_FASTQ\\_Downloads\\_Fri-Jun-14-2019-15\\_05\\_47-GMT-0400-(EDT).tsv'\n",
       "\\end{enumerate*}\n"
      ],
      "text/markdown": [
       "1. 'exRNA_Atlas_Biosample_Metadata_Downloads_Fri-Jun-14-2019-15_05_20-GMT-0400-_EDT_.tsv'\n",
       "2. 'exRNA_Atlas_CORE_Results_Downloads_Fri-Jun-14-2019-15_05_39-GMT-0400-_EDT_.tsv'\n",
       "3. 'exRNA_Atlas_Donor_Metadata_Downloads_Fri-Jun-14-2019-15_05_28-GMT-0400-_EDT_.tsv'\n",
       "4. 'exRNA_Atlas_Experiment_Metadata_Downloads_Fri-Jun-14-2019-15_05_24-GMT-0400-_EDT_.tsv'\n",
       "5. 'exRNA_Atlas_FASTQ_Downloads_Fri-Jun-14-2019-15_05_47-GMT-0400-(EDT).tsv'\n",
       "\n",
       "\n"
      ],
      "text/plain": [
       "[1] \"exRNA_Atlas_Biosample_Metadata_Downloads_Fri-Jun-14-2019-15_05_20-GMT-0400-_EDT_.tsv\" \n",
       "[2] \"exRNA_Atlas_CORE_Results_Downloads_Fri-Jun-14-2019-15_05_39-GMT-0400-_EDT_.tsv\"       \n",
       "[3] \"exRNA_Atlas_Donor_Metadata_Downloads_Fri-Jun-14-2019-15_05_28-GMT-0400-_EDT_.tsv\"     \n",
       "[4] \"exRNA_Atlas_Experiment_Metadata_Downloads_Fri-Jun-14-2019-15_05_24-GMT-0400-_EDT_.tsv\"\n",
       "[5] \"exRNA_Atlas_FASTQ_Downloads_Fri-Jun-14-2019-15_05_47-GMT-0400-(EDT).tsv\"              "
      ]
     },
     "metadata": {},
     "output_type": "display_data"
    }
   ],
   "source": [
    "fnames <- list.files(pattern = \"^exRNA.*.tsv\")\n",
    "fnames"
   ]
  },
  {
   "cell_type": "code",
   "execution_count": 4,
   "metadata": {},
   "outputs": [
    {
     "name": "stdout",
     "output_type": "stream",
     "text": [
      "ftp://ftp.genboree.org/exRNA-atlas/grp/Extracellular%20RNA%20Atlas/db/exRNA%20Repository%20-%20hg19/file/exRNA-atlas/exceRptPipeline_v4.6.2/AKRIC1-GBM_exosome-2016-10-17/metadataFiles/EXR-AKRIC1AKGBM002-BS.metadata.tsv EXR-AKRIC1AKGBM002-BS.metadata.tsv \n",
      "ftp://ftp.genboree.org/exRNA-atlas/grp/Extracellular%20RNA%20Atlas/db/exRNA%20Repository%20-%20hg19/file/exRNA-atlas/exceRptPipeline_v4.6.2/AKRIC1-GBM_exosome-2016-10-17/metadataFiles/EXR-AKRIC1AKGBM003-BS.metadata.tsv EXR-AKRIC1AKGBM003-BS.metadata.tsv \n",
      "ftp://ftp.genboree.org/exRNA-atlas/grp/Extracellular%20RNA%20Atlas/db/exRNA%20Repository%20-%20hg19/file/exRNA-atlas/exceRptPipeline_v4.6.2/AKRIC1-GBM_exosome-2016-10-17/metadataFiles/EXR-AKRIC1AKGBM004-BS.metadata.tsv EXR-AKRIC1AKGBM004-BS.metadata.tsv \n",
      "ftp://ftp.genboree.org/exRNA-atlas/grp/Extracellular%20RNA%20Atlas/db/exRNA%20Repository%20-%20hg19/file/exRNA-atlas/exceRptPipeline_v4.6.2/AKRIC1-GBM_exosome-2016-10-17/metadataFiles/EXR-AKRIC1AKGBM001-BS.metadata.tsv EXR-AKRIC1AKGBM001-BS.metadata.tsv \n",
      "NA NA \n"
     ]
    },
    {
     "ename": "ERROR",
     "evalue": "Error in curl_download(url, filename): Could not resolve host: NA\n",
     "output_type": "error",
     "traceback": [
      "Error in curl_download(url, filename): Could not resolve host: NA\nTraceback:\n",
      "1. download.linked.files(\"exRNA_Atlas_Biosample_Metadata_Downloads_Fri-Jun-14-2019-15_05_20-GMT-0400-_EDT_.tsv\")",
      "2. curl_download(url, filename)   # at line 13 of file <text>"
     ]
    }
   ],
   "source": [
    "download.linked.files('exRNA_Atlas_Biosample_Metadata_Downloads_Fri-Jun-14-2019-15_05_20-GMT-0400-_EDT_.tsv')"
   ]
  },
  {
   "cell_type": "code",
   "execution_count": 5,
   "metadata": {},
   "outputs": [
    {
     "data": {
      "text/html": [
       "<table>\n",
       "<caption>A data.table: 4 × 18</caption>\n",
       "<thead>\n",
       "\t<tr><th scope=col>#DOWNLOAD NAME</th><th scope=col>DOWNLOAD URL</th><th scope=col>BIOSAMPLE NAME</th><th scope=col>CONDITION</th><th scope=col>BIOFLUID</th><th scope=col>RNA SOURCE</th><th scope=col>RNA ISOLATION KIT</th><th scope=col>ANATOMICAL LOCATION</th><th scope=col>CELL CULTURE SOURCE</th><th scope=col>PROFILING ASSAY</th><th scope=col>SPECIES</th><th scope=col>MEETS ERCC QC STANDARDS?</th><th scope=col>TRANSCRIPTOME READS</th><th scope=col>REFERENCE GENOME READS</th><th scope=col>TRANSCRIPTOME GENOME RATIO</th><th scope=col>BIOSAMPLE ACCESSION ID</th><th scope=col>RELATED DATASET ACCESSION ID</th><th scope=col>FASTQ IDENTIFIER</th></tr>\n",
       "\t<tr><th scope=col>&lt;chr&gt;</th><th scope=col>&lt;chr&gt;</th><th scope=col>&lt;chr&gt;</th><th scope=col>&lt;chr&gt;</th><th scope=col>&lt;chr&gt;</th><th scope=col>&lt;chr&gt;</th><th scope=col>&lt;chr&gt;</th><th scope=col>&lt;chr&gt;</th><th scope=col>&lt;chr&gt;</th><th scope=col>&lt;chr&gt;</th><th scope=col>&lt;chr&gt;</th><th scope=col>&lt;chr&gt;</th><th scope=col>&lt;int&gt;</th><th scope=col>&lt;int&gt;</th><th scope=col>&lt;dbl&gt;</th><th scope=col>&lt;chr&gt;</th><th scope=col>&lt;chr&gt;</th><th scope=col>&lt;chr&gt;</th></tr>\n",
       "</thead>\n",
       "<tbody>\n",
       "\t<tr><td>EXR-AKRIC1AKGBM002-BS.metadata.tsv</td><td>ftp://ftp.genboree.org/exRNA-atlas/grp/Extracellular%20RNA%20Atlas/db/exRNA%20Repository%20-%20hg19/file/exRNA-atlas/exceRptPipeline_v4.6.2/AKRIC1-GBM_exosome-2016-10-17/metadataFiles/EXR-AKRIC1AKGBM002-BS.metadata.tsv</td><td>Sample 2</td><td>glioblastoma multiforme</td><td>Culture Media, Conditioned</td><td>extracellular exosome</td><td>miRCURY RNA isolation kit - Cell &amp; Plant (Exiqon)</td><td>Cellular analyte</td><td>Tumor Tissue</td><td>small RNA-Seq</td><td>Human</td><td>PASS</td><td>5418049</td><td>6046376</td><td>0.8961</td><td>EXR-AKRIC1AKGBM002-BS</td><td>EXR-AKRIC157ITEl-AN</td><td>sample_GBM2_exosome_clean_fq</td></tr>\n",
       "\t<tr><td>EXR-AKRIC1AKGBM003-BS.metadata.tsv</td><td>ftp://ftp.genboree.org/exRNA-atlas/grp/Extracellular%20RNA%20Atlas/db/exRNA%20Repository%20-%20hg19/file/exRNA-atlas/exceRptPipeline_v4.6.2/AKRIC1-GBM_exosome-2016-10-17/metadataFiles/EXR-AKRIC1AKGBM003-BS.metadata.tsv</td><td>Sample 3</td><td>glioblastoma multiforme</td><td>Culture Media, Conditioned</td><td>extracellular exosome</td><td>miRCURY RNA isolation kit - Cell &amp; Plant (Exiqon)</td><td>Cellular analyte</td><td>Tumor Tissue</td><td>small RNA-Seq</td><td>Human</td><td>PASS</td><td>3297178</td><td>3814679</td><td>0.8643</td><td>EXR-AKRIC1AKGBM003-BS</td><td>EXR-AKRIC157ITEl-AN</td><td>sample_GBM3_exosome_clean_fq</td></tr>\n",
       "\t<tr><td>EXR-AKRIC1AKGBM004-BS.metadata.tsv</td><td>ftp://ftp.genboree.org/exRNA-atlas/grp/Extracellular%20RNA%20Atlas/db/exRNA%20Repository%20-%20hg19/file/exRNA-atlas/exceRptPipeline_v4.6.2/AKRIC1-GBM_exosome-2016-10-17/metadataFiles/EXR-AKRIC1AKGBM004-BS.metadata.tsv</td><td>Sample 4</td><td>glioblastoma multiforme</td><td>Culture Media, Conditioned</td><td>extracellular exosome</td><td>miRCURY RNA isolation kit - Cell &amp; Plant (Exiqon)</td><td>Cellular analyte</td><td>Tumor Tissue</td><td>small RNA-Seq</td><td>Human</td><td>PASS</td><td>3560649</td><td>4124775</td><td>0.8632</td><td>EXR-AKRIC1AKGBM004-BS</td><td>EXR-AKRIC157ITEl-AN</td><td>sample_GBM4_exosome_clean_fq</td></tr>\n",
       "\t<tr><td>EXR-AKRIC1AKGBM001-BS.metadata.tsv</td><td>ftp://ftp.genboree.org/exRNA-atlas/grp/Extracellular%20RNA%20Atlas/db/exRNA%20Repository%20-%20hg19/file/exRNA-atlas/exceRptPipeline_v4.6.2/AKRIC1-GBM_exosome-2016-10-17/metadataFiles/EXR-AKRIC1AKGBM001-BS.metadata.tsv</td><td>Sample 1</td><td>glioblastoma multiforme</td><td>Culture Media, Conditioned</td><td>extracellular exosome</td><td>miRCURY RNA isolation kit - Cell &amp; Plant (Exiqon)</td><td>Cellular analyte</td><td>Tumor Tissue</td><td>small RNA-Seq</td><td>Human</td><td>PASS</td><td>5294110</td><td>5805327</td><td>0.9119</td><td>EXR-AKRIC1AKGBM001-BS</td><td>EXR-AKRIC157ITEl-AN</td><td>sample_GBM1_exosome_clean_fq</td></tr>\n",
       "</tbody>\n",
       "</table>\n"
      ],
      "text/latex": [
       "A data.table: 4 × 18\n",
       "\\begin{tabular}{r|llllllllllllllllll}\n",
       " \\#DOWNLOAD NAME & DOWNLOAD URL & BIOSAMPLE NAME & CONDITION & BIOFLUID & RNA SOURCE & RNA ISOLATION KIT & ANATOMICAL LOCATION & CELL CULTURE SOURCE & PROFILING ASSAY & SPECIES & MEETS ERCC QC STANDARDS? & TRANSCRIPTOME READS & REFERENCE GENOME READS & TRANSCRIPTOME GENOME RATIO & BIOSAMPLE ACCESSION ID & RELATED DATASET ACCESSION ID & FASTQ IDENTIFIER\\\\\n",
       " <chr> & <chr> & <chr> & <chr> & <chr> & <chr> & <chr> & <chr> & <chr> & <chr> & <chr> & <chr> & <int> & <int> & <dbl> & <chr> & <chr> & <chr>\\\\\n",
       "\\hline\n",
       "\t EXR-AKRIC1AKGBM002-BS.metadata.tsv & ftp://ftp.genboree.org/exRNA-atlas/grp/Extracellular\\%20RNA\\%20Atlas/db/exRNA\\%20Repository\\%20-\\%20hg19/file/exRNA-atlas/exceRptPipeline\\_v4.6.2/AKRIC1-GBM\\_exosome-2016-10-17/metadataFiles/EXR-AKRIC1AKGBM002-BS.metadata.tsv & Sample 2 & glioblastoma multiforme & Culture Media, Conditioned & extracellular exosome & miRCURY RNA isolation kit - Cell \\& Plant (Exiqon) & Cellular analyte & Tumor Tissue & small RNA-Seq & Human & PASS & 5418049 & 6046376 & 0.8961 & EXR-AKRIC1AKGBM002-BS & EXR-AKRIC157ITEl-AN & sample\\_GBM2\\_exosome\\_clean\\_fq\\\\\n",
       "\t EXR-AKRIC1AKGBM003-BS.metadata.tsv & ftp://ftp.genboree.org/exRNA-atlas/grp/Extracellular\\%20RNA\\%20Atlas/db/exRNA\\%20Repository\\%20-\\%20hg19/file/exRNA-atlas/exceRptPipeline\\_v4.6.2/AKRIC1-GBM\\_exosome-2016-10-17/metadataFiles/EXR-AKRIC1AKGBM003-BS.metadata.tsv & Sample 3 & glioblastoma multiforme & Culture Media, Conditioned & extracellular exosome & miRCURY RNA isolation kit - Cell \\& Plant (Exiqon) & Cellular analyte & Tumor Tissue & small RNA-Seq & Human & PASS & 3297178 & 3814679 & 0.8643 & EXR-AKRIC1AKGBM003-BS & EXR-AKRIC157ITEl-AN & sample\\_GBM3\\_exosome\\_clean\\_fq\\\\\n",
       "\t EXR-AKRIC1AKGBM004-BS.metadata.tsv & ftp://ftp.genboree.org/exRNA-atlas/grp/Extracellular\\%20RNA\\%20Atlas/db/exRNA\\%20Repository\\%20-\\%20hg19/file/exRNA-atlas/exceRptPipeline\\_v4.6.2/AKRIC1-GBM\\_exosome-2016-10-17/metadataFiles/EXR-AKRIC1AKGBM004-BS.metadata.tsv & Sample 4 & glioblastoma multiforme & Culture Media, Conditioned & extracellular exosome & miRCURY RNA isolation kit - Cell \\& Plant (Exiqon) & Cellular analyte & Tumor Tissue & small RNA-Seq & Human & PASS & 3560649 & 4124775 & 0.8632 & EXR-AKRIC1AKGBM004-BS & EXR-AKRIC157ITEl-AN & sample\\_GBM4\\_exosome\\_clean\\_fq\\\\\n",
       "\t EXR-AKRIC1AKGBM001-BS.metadata.tsv & ftp://ftp.genboree.org/exRNA-atlas/grp/Extracellular\\%20RNA\\%20Atlas/db/exRNA\\%20Repository\\%20-\\%20hg19/file/exRNA-atlas/exceRptPipeline\\_v4.6.2/AKRIC1-GBM\\_exosome-2016-10-17/metadataFiles/EXR-AKRIC1AKGBM001-BS.metadata.tsv & Sample 1 & glioblastoma multiforme & Culture Media, Conditioned & extracellular exosome & miRCURY RNA isolation kit - Cell \\& Plant (Exiqon) & Cellular analyte & Tumor Tissue & small RNA-Seq & Human & PASS & 5294110 & 5805327 & 0.9119 & EXR-AKRIC1AKGBM001-BS & EXR-AKRIC157ITEl-AN & sample\\_GBM1\\_exosome\\_clean\\_fq\\\\\n",
       "\\end{tabular}\n"
      ],
      "text/markdown": [
       "\n",
       "A data.table: 4 × 18\n",
       "\n",
       "| #DOWNLOAD NAME &lt;chr&gt; | DOWNLOAD URL &lt;chr&gt; | BIOSAMPLE NAME &lt;chr&gt; | CONDITION &lt;chr&gt; | BIOFLUID &lt;chr&gt; | RNA SOURCE &lt;chr&gt; | RNA ISOLATION KIT &lt;chr&gt; | ANATOMICAL LOCATION &lt;chr&gt; | CELL CULTURE SOURCE &lt;chr&gt; | PROFILING ASSAY &lt;chr&gt; | SPECIES &lt;chr&gt; | MEETS ERCC QC STANDARDS? &lt;chr&gt; | TRANSCRIPTOME READS &lt;int&gt; | REFERENCE GENOME READS &lt;int&gt; | TRANSCRIPTOME GENOME RATIO &lt;dbl&gt; | BIOSAMPLE ACCESSION ID &lt;chr&gt; | RELATED DATASET ACCESSION ID &lt;chr&gt; | FASTQ IDENTIFIER &lt;chr&gt; |\n",
       "|---|---|---|---|---|---|---|---|---|---|---|---|---|---|---|---|---|---|\n",
       "| EXR-AKRIC1AKGBM002-BS.metadata.tsv | ftp://ftp.genboree.org/exRNA-atlas/grp/Extracellular%20RNA%20Atlas/db/exRNA%20Repository%20-%20hg19/file/exRNA-atlas/exceRptPipeline_v4.6.2/AKRIC1-GBM_exosome-2016-10-17/metadataFiles/EXR-AKRIC1AKGBM002-BS.metadata.tsv | Sample 2 | glioblastoma multiforme | Culture Media, Conditioned | extracellular exosome | miRCURY RNA isolation kit - Cell &amp; Plant (Exiqon) | Cellular analyte | Tumor Tissue | small RNA-Seq | Human | PASS | 5418049 | 6046376 | 0.8961 | EXR-AKRIC1AKGBM002-BS | EXR-AKRIC157ITEl-AN | sample_GBM2_exosome_clean_fq |\n",
       "| EXR-AKRIC1AKGBM003-BS.metadata.tsv | ftp://ftp.genboree.org/exRNA-atlas/grp/Extracellular%20RNA%20Atlas/db/exRNA%20Repository%20-%20hg19/file/exRNA-atlas/exceRptPipeline_v4.6.2/AKRIC1-GBM_exosome-2016-10-17/metadataFiles/EXR-AKRIC1AKGBM003-BS.metadata.tsv | Sample 3 | glioblastoma multiforme | Culture Media, Conditioned | extracellular exosome | miRCURY RNA isolation kit - Cell &amp; Plant (Exiqon) | Cellular analyte | Tumor Tissue | small RNA-Seq | Human | PASS | 3297178 | 3814679 | 0.8643 | EXR-AKRIC1AKGBM003-BS | EXR-AKRIC157ITEl-AN | sample_GBM3_exosome_clean_fq |\n",
       "| EXR-AKRIC1AKGBM004-BS.metadata.tsv | ftp://ftp.genboree.org/exRNA-atlas/grp/Extracellular%20RNA%20Atlas/db/exRNA%20Repository%20-%20hg19/file/exRNA-atlas/exceRptPipeline_v4.6.2/AKRIC1-GBM_exosome-2016-10-17/metadataFiles/EXR-AKRIC1AKGBM004-BS.metadata.tsv | Sample 4 | glioblastoma multiforme | Culture Media, Conditioned | extracellular exosome | miRCURY RNA isolation kit - Cell &amp; Plant (Exiqon) | Cellular analyte | Tumor Tissue | small RNA-Seq | Human | PASS | 3560649 | 4124775 | 0.8632 | EXR-AKRIC1AKGBM004-BS | EXR-AKRIC157ITEl-AN | sample_GBM4_exosome_clean_fq |\n",
       "| EXR-AKRIC1AKGBM001-BS.metadata.tsv | ftp://ftp.genboree.org/exRNA-atlas/grp/Extracellular%20RNA%20Atlas/db/exRNA%20Repository%20-%20hg19/file/exRNA-atlas/exceRptPipeline_v4.6.2/AKRIC1-GBM_exosome-2016-10-17/metadataFiles/EXR-AKRIC1AKGBM001-BS.metadata.tsv | Sample 1 | glioblastoma multiforme | Culture Media, Conditioned | extracellular exosome | miRCURY RNA isolation kit - Cell &amp; Plant (Exiqon) | Cellular analyte | Tumor Tissue | small RNA-Seq | Human | PASS | 5294110 | 5805327 | 0.9119 | EXR-AKRIC1AKGBM001-BS | EXR-AKRIC157ITEl-AN | sample_GBM1_exosome_clean_fq |\n",
       "\n"
      ],
      "text/plain": [
       "  #DOWNLOAD NAME                    \n",
       "1 EXR-AKRIC1AKGBM002-BS.metadata.tsv\n",
       "2 EXR-AKRIC1AKGBM003-BS.metadata.tsv\n",
       "3 EXR-AKRIC1AKGBM004-BS.metadata.tsv\n",
       "4 EXR-AKRIC1AKGBM001-BS.metadata.tsv\n",
       "  DOWNLOAD URL                                                                                                                                                                                                              \n",
       "1 ftp://ftp.genboree.org/exRNA-atlas/grp/Extracellular%20RNA%20Atlas/db/exRNA%20Repository%20-%20hg19/file/exRNA-atlas/exceRptPipeline_v4.6.2/AKRIC1-GBM_exosome-2016-10-17/metadataFiles/EXR-AKRIC1AKGBM002-BS.metadata.tsv\n",
       "2 ftp://ftp.genboree.org/exRNA-atlas/grp/Extracellular%20RNA%20Atlas/db/exRNA%20Repository%20-%20hg19/file/exRNA-atlas/exceRptPipeline_v4.6.2/AKRIC1-GBM_exosome-2016-10-17/metadataFiles/EXR-AKRIC1AKGBM003-BS.metadata.tsv\n",
       "3 ftp://ftp.genboree.org/exRNA-atlas/grp/Extracellular%20RNA%20Atlas/db/exRNA%20Repository%20-%20hg19/file/exRNA-atlas/exceRptPipeline_v4.6.2/AKRIC1-GBM_exosome-2016-10-17/metadataFiles/EXR-AKRIC1AKGBM004-BS.metadata.tsv\n",
       "4 ftp://ftp.genboree.org/exRNA-atlas/grp/Extracellular%20RNA%20Atlas/db/exRNA%20Repository%20-%20hg19/file/exRNA-atlas/exceRptPipeline_v4.6.2/AKRIC1-GBM_exosome-2016-10-17/metadataFiles/EXR-AKRIC1AKGBM001-BS.metadata.tsv\n",
       "  BIOSAMPLE NAME CONDITION               BIOFLUID                  \n",
       "1 Sample 2       glioblastoma multiforme Culture Media, Conditioned\n",
       "2 Sample 3       glioblastoma multiforme Culture Media, Conditioned\n",
       "3 Sample 4       glioblastoma multiforme Culture Media, Conditioned\n",
       "4 Sample 1       glioblastoma multiforme Culture Media, Conditioned\n",
       "  RNA SOURCE            RNA ISOLATION KIT                                \n",
       "1 extracellular exosome miRCURY RNA isolation kit - Cell & Plant (Exiqon)\n",
       "2 extracellular exosome miRCURY RNA isolation kit - Cell & Plant (Exiqon)\n",
       "3 extracellular exosome miRCURY RNA isolation kit - Cell & Plant (Exiqon)\n",
       "4 extracellular exosome miRCURY RNA isolation kit - Cell & Plant (Exiqon)\n",
       "  ANATOMICAL LOCATION CELL CULTURE SOURCE PROFILING ASSAY SPECIES\n",
       "1 Cellular analyte    Tumor Tissue        small RNA-Seq   Human  \n",
       "2 Cellular analyte    Tumor Tissue        small RNA-Seq   Human  \n",
       "3 Cellular analyte    Tumor Tissue        small RNA-Seq   Human  \n",
       "4 Cellular analyte    Tumor Tissue        small RNA-Seq   Human  \n",
       "  MEETS ERCC QC STANDARDS? TRANSCRIPTOME READS REFERENCE GENOME READS\n",
       "1 PASS                     5418049             6046376               \n",
       "2 PASS                     3297178             3814679               \n",
       "3 PASS                     3560649             4124775               \n",
       "4 PASS                     5294110             5805327               \n",
       "  TRANSCRIPTOME GENOME RATIO BIOSAMPLE ACCESSION ID\n",
       "1 0.8961                     EXR-AKRIC1AKGBM002-BS \n",
       "2 0.8643                     EXR-AKRIC1AKGBM003-BS \n",
       "3 0.8632                     EXR-AKRIC1AKGBM004-BS \n",
       "4 0.9119                     EXR-AKRIC1AKGBM001-BS \n",
       "  RELATED DATASET ACCESSION ID FASTQ IDENTIFIER            \n",
       "1 EXR-AKRIC157ITEl-AN          sample_GBM2_exosome_clean_fq\n",
       "2 EXR-AKRIC157ITEl-AN          sample_GBM3_exosome_clean_fq\n",
       "3 EXR-AKRIC157ITEl-AN          sample_GBM4_exosome_clean_fq\n",
       "4 EXR-AKRIC157ITEl-AN          sample_GBM1_exosome_clean_fq"
      ]
     },
     "metadata": {},
     "output_type": "display_data"
    }
   ],
   "source": [
    "fread('exRNA_Atlas_Biosample_Metadata_Downloads_Fri-Jun-14-2019-15_05_20-GMT-0400-_EDT_.tsv')"
   ]
  },
  {
   "cell_type": "code",
   "execution_count": 6,
   "metadata": {},
   "outputs": [
    {
     "name": "stdout",
     "output_type": "stream",
     "text": [
      "ftp://ftp.genboree.org/exRNA-atlas/grp/Extracellular%20RNA%20Atlas/db/exRNA%20Repository%20-%20hg19/file/exRNA-atlas/exceRptPipeline_v4.6.2/AKRIC1-GBM_exosome-2016-10-17/sample_GBM2_exosome_clean_fq/CORE_RESULTS/sample_GBM2_exosome_clean_fq_AKRIC1-GBM_exosome-2016-10-17_CORE_RESULTS_v4.6.2.tgz sample_GBM2_exosome_clean_fq_AKRIC1-GBM_exosome-2016-10-17_CORE_RESULTS_v4.6.2.tgz \n",
      "ftp://ftp.genboree.org/exRNA-atlas/grp/Extracellular%20RNA%20Atlas/db/exRNA%20Repository%20-%20hg19/file/exRNA-atlas/exceRptPipeline_v4.6.2/AKRIC1-GBM_exosome-2016-10-17/sample_GBM3_exosome_clean_fq/CORE_RESULTS/sample_GBM3_exosome_clean_fq_AKRIC1-GBM_exosome-2016-10-17_CORE_RESULTS_v4.6.2.tgz sample_GBM3_exosome_clean_fq_AKRIC1-GBM_exosome-2016-10-17_CORE_RESULTS_v4.6.2.tgz \n",
      "ftp://ftp.genboree.org/exRNA-atlas/grp/Extracellular%20RNA%20Atlas/db/exRNA%20Repository%20-%20hg19/file/exRNA-atlas/exceRptPipeline_v4.6.2/AKRIC1-GBM_exosome-2016-10-17/sample_GBM1_exosome_clean_fq/CORE_RESULTS/sample_GBM1_exosome_clean_fq_AKRIC1-GBM_exosome-2016-10-17_CORE_RESULTS_v4.6.2.tgz sample_GBM1_exosome_clean_fq_AKRIC1-GBM_exosome-2016-10-17_CORE_RESULTS_v4.6.2.tgz \n",
      "ftp://ftp.genboree.org/exRNA-atlas/grp/Extracellular%20RNA%20Atlas/db/exRNA%20Repository%20-%20hg19/file/exRNA-atlas/exceRptPipeline_v4.6.2/AKRIC1-GBM_exosome-2016-10-17/sample_GBM4_exosome_clean_fq/CORE_RESULTS/sample_GBM4_exosome_clean_fq_AKRIC1-GBM_exosome-2016-10-17_CORE_RESULTS_v4.6.2.tgz sample_GBM4_exosome_clean_fq_AKRIC1-GBM_exosome-2016-10-17_CORE_RESULTS_v4.6.2.tgz \n",
      "NA NA \n"
     ]
    },
    {
     "ename": "ERROR",
     "evalue": "Error in curl_download(url, filename): Could not resolve host: NA\n",
     "output_type": "error",
     "traceback": [
      "Error in curl_download(url, filename): Could not resolve host: NA\nTraceback:\n",
      "1. download.linked.files(\"exRNA_Atlas_CORE_Results_Downloads_Fri-Jun-14-2019-15_05_39-GMT-0400-_EDT_.tsv\")",
      "2. curl_download(url, filename)   # at line 13 of file <text>"
     ]
    }
   ],
   "source": [
    "download.linked.files('exRNA_Atlas_CORE_Results_Downloads_Fri-Jun-14-2019-15_05_39-GMT-0400-_EDT_.tsv')"
   ]
  },
  {
   "cell_type": "code",
   "execution_count": 7,
   "metadata": {},
   "outputs": [
    {
     "data": {
      "text/html": [
       "<table>\n",
       "<caption>A data.table: 4 × 18</caption>\n",
       "<thead>\n",
       "\t<tr><th scope=col>#DOWNLOAD NAME</th><th scope=col>DOWNLOAD URL</th><th scope=col>BIOSAMPLE NAME</th><th scope=col>CONDITION</th><th scope=col>BIOFLUID</th><th scope=col>RNA SOURCE</th><th scope=col>RNA ISOLATION KIT</th><th scope=col>ANATOMICAL LOCATION</th><th scope=col>CELL CULTURE SOURCE</th><th scope=col>PROFILING ASSAY</th><th scope=col>SPECIES</th><th scope=col>MEETS ERCC QC STANDARDS?</th><th scope=col>TRANSCRIPTOME READS</th><th scope=col>REFERENCE GENOME READS</th><th scope=col>TRANSCRIPTOME GENOME RATIO</th><th scope=col>BIOSAMPLE ACCESSION ID</th><th scope=col>RELATED DATASET ACCESSION ID</th><th scope=col>FASTQ IDENTIFIER</th></tr>\n",
       "\t<tr><th scope=col>&lt;chr&gt;</th><th scope=col>&lt;chr&gt;</th><th scope=col>&lt;chr&gt;</th><th scope=col>&lt;chr&gt;</th><th scope=col>&lt;chr&gt;</th><th scope=col>&lt;chr&gt;</th><th scope=col>&lt;chr&gt;</th><th scope=col>&lt;chr&gt;</th><th scope=col>&lt;chr&gt;</th><th scope=col>&lt;chr&gt;</th><th scope=col>&lt;chr&gt;</th><th scope=col>&lt;chr&gt;</th><th scope=col>&lt;int&gt;</th><th scope=col>&lt;int&gt;</th><th scope=col>&lt;dbl&gt;</th><th scope=col>&lt;chr&gt;</th><th scope=col>&lt;chr&gt;</th><th scope=col>&lt;chr&gt;</th></tr>\n",
       "</thead>\n",
       "<tbody>\n",
       "\t<tr><td>sample_GBM2_exosome_clean_fq_AKRIC1-GBM_exosome-2016-10-17_CORE_RESULTS_v4.6.2.tgz</td><td>ftp://ftp.genboree.org/exRNA-atlas/grp/Extracellular%20RNA%20Atlas/db/exRNA%20Repository%20-%20hg19/file/exRNA-atlas/exceRptPipeline_v4.6.2/AKRIC1-GBM_exosome-2016-10-17/sample_GBM2_exosome_clean_fq/CORE_RESULTS/sample_GBM2_exosome_clean_fq_AKRIC1-GBM_exosome-2016-10-17_CORE_RESULTS_v4.6.2.tgz</td><td>Sample 2</td><td>glioblastoma multiforme</td><td>Culture Media, Conditioned</td><td>extracellular exosome</td><td>miRCURY RNA isolation kit - Cell &amp; Plant (Exiqon)</td><td>Cellular analyte</td><td>Tumor Tissue</td><td>small RNA-Seq</td><td>Human</td><td>PASS</td><td>5418049</td><td>6046376</td><td>0.8961</td><td>EXR-AKRIC1AKGBM002-BS</td><td>EXR-AKRIC157ITEl-AN</td><td>sample_GBM2_exosome_clean_fq</td></tr>\n",
       "\t<tr><td>sample_GBM3_exosome_clean_fq_AKRIC1-GBM_exosome-2016-10-17_CORE_RESULTS_v4.6.2.tgz</td><td>ftp://ftp.genboree.org/exRNA-atlas/grp/Extracellular%20RNA%20Atlas/db/exRNA%20Repository%20-%20hg19/file/exRNA-atlas/exceRptPipeline_v4.6.2/AKRIC1-GBM_exosome-2016-10-17/sample_GBM3_exosome_clean_fq/CORE_RESULTS/sample_GBM3_exosome_clean_fq_AKRIC1-GBM_exosome-2016-10-17_CORE_RESULTS_v4.6.2.tgz</td><td>Sample 3</td><td>glioblastoma multiforme</td><td>Culture Media, Conditioned</td><td>extracellular exosome</td><td>miRCURY RNA isolation kit - Cell &amp; Plant (Exiqon)</td><td>Cellular analyte</td><td>Tumor Tissue</td><td>small RNA-Seq</td><td>Human</td><td>PASS</td><td>3297178</td><td>3814679</td><td>0.8643</td><td>EXR-AKRIC1AKGBM003-BS</td><td>EXR-AKRIC157ITEl-AN</td><td>sample_GBM3_exosome_clean_fq</td></tr>\n",
       "\t<tr><td>sample_GBM1_exosome_clean_fq_AKRIC1-GBM_exosome-2016-10-17_CORE_RESULTS_v4.6.2.tgz</td><td>ftp://ftp.genboree.org/exRNA-atlas/grp/Extracellular%20RNA%20Atlas/db/exRNA%20Repository%20-%20hg19/file/exRNA-atlas/exceRptPipeline_v4.6.2/AKRIC1-GBM_exosome-2016-10-17/sample_GBM1_exosome_clean_fq/CORE_RESULTS/sample_GBM1_exosome_clean_fq_AKRIC1-GBM_exosome-2016-10-17_CORE_RESULTS_v4.6.2.tgz</td><td>Sample 1</td><td>glioblastoma multiforme</td><td>Culture Media, Conditioned</td><td>extracellular exosome</td><td>miRCURY RNA isolation kit - Cell &amp; Plant (Exiqon)</td><td>Cellular analyte</td><td>Tumor Tissue</td><td>small RNA-Seq</td><td>Human</td><td>PASS</td><td>5294110</td><td>5805327</td><td>0.9119</td><td>EXR-AKRIC1AKGBM001-BS</td><td>EXR-AKRIC157ITEl-AN</td><td>sample_GBM1_exosome_clean_fq</td></tr>\n",
       "\t<tr><td>sample_GBM4_exosome_clean_fq_AKRIC1-GBM_exosome-2016-10-17_CORE_RESULTS_v4.6.2.tgz</td><td>ftp://ftp.genboree.org/exRNA-atlas/grp/Extracellular%20RNA%20Atlas/db/exRNA%20Repository%20-%20hg19/file/exRNA-atlas/exceRptPipeline_v4.6.2/AKRIC1-GBM_exosome-2016-10-17/sample_GBM4_exosome_clean_fq/CORE_RESULTS/sample_GBM4_exosome_clean_fq_AKRIC1-GBM_exosome-2016-10-17_CORE_RESULTS_v4.6.2.tgz</td><td>Sample 4</td><td>glioblastoma multiforme</td><td>Culture Media, Conditioned</td><td>extracellular exosome</td><td>miRCURY RNA isolation kit - Cell &amp; Plant (Exiqon)</td><td>Cellular analyte</td><td>Tumor Tissue</td><td>small RNA-Seq</td><td>Human</td><td>PASS</td><td>3560649</td><td>4124775</td><td>0.8632</td><td>EXR-AKRIC1AKGBM004-BS</td><td>EXR-AKRIC157ITEl-AN</td><td>sample_GBM4_exosome_clean_fq</td></tr>\n",
       "</tbody>\n",
       "</table>\n"
      ],
      "text/latex": [
       "A data.table: 4 × 18\n",
       "\\begin{tabular}{r|llllllllllllllllll}\n",
       " \\#DOWNLOAD NAME & DOWNLOAD URL & BIOSAMPLE NAME & CONDITION & BIOFLUID & RNA SOURCE & RNA ISOLATION KIT & ANATOMICAL LOCATION & CELL CULTURE SOURCE & PROFILING ASSAY & SPECIES & MEETS ERCC QC STANDARDS? & TRANSCRIPTOME READS & REFERENCE GENOME READS & TRANSCRIPTOME GENOME RATIO & BIOSAMPLE ACCESSION ID & RELATED DATASET ACCESSION ID & FASTQ IDENTIFIER\\\\\n",
       " <chr> & <chr> & <chr> & <chr> & <chr> & <chr> & <chr> & <chr> & <chr> & <chr> & <chr> & <chr> & <int> & <int> & <dbl> & <chr> & <chr> & <chr>\\\\\n",
       "\\hline\n",
       "\t sample\\_GBM2\\_exosome\\_clean\\_fq\\_AKRIC1-GBM\\_exosome-2016-10-17\\_CORE\\_RESULTS\\_v4.6.2.tgz & ftp://ftp.genboree.org/exRNA-atlas/grp/Extracellular\\%20RNA\\%20Atlas/db/exRNA\\%20Repository\\%20-\\%20hg19/file/exRNA-atlas/exceRptPipeline\\_v4.6.2/AKRIC1-GBM\\_exosome-2016-10-17/sample\\_GBM2\\_exosome\\_clean\\_fq/CORE\\_RESULTS/sample\\_GBM2\\_exosome\\_clean\\_fq\\_AKRIC1-GBM\\_exosome-2016-10-17\\_CORE\\_RESULTS\\_v4.6.2.tgz & Sample 2 & glioblastoma multiforme & Culture Media, Conditioned & extracellular exosome & miRCURY RNA isolation kit - Cell \\& Plant (Exiqon) & Cellular analyte & Tumor Tissue & small RNA-Seq & Human & PASS & 5418049 & 6046376 & 0.8961 & EXR-AKRIC1AKGBM002-BS & EXR-AKRIC157ITEl-AN & sample\\_GBM2\\_exosome\\_clean\\_fq\\\\\n",
       "\t sample\\_GBM3\\_exosome\\_clean\\_fq\\_AKRIC1-GBM\\_exosome-2016-10-17\\_CORE\\_RESULTS\\_v4.6.2.tgz & ftp://ftp.genboree.org/exRNA-atlas/grp/Extracellular\\%20RNA\\%20Atlas/db/exRNA\\%20Repository\\%20-\\%20hg19/file/exRNA-atlas/exceRptPipeline\\_v4.6.2/AKRIC1-GBM\\_exosome-2016-10-17/sample\\_GBM3\\_exosome\\_clean\\_fq/CORE\\_RESULTS/sample\\_GBM3\\_exosome\\_clean\\_fq\\_AKRIC1-GBM\\_exosome-2016-10-17\\_CORE\\_RESULTS\\_v4.6.2.tgz & Sample 3 & glioblastoma multiforme & Culture Media, Conditioned & extracellular exosome & miRCURY RNA isolation kit - Cell \\& Plant (Exiqon) & Cellular analyte & Tumor Tissue & small RNA-Seq & Human & PASS & 3297178 & 3814679 & 0.8643 & EXR-AKRIC1AKGBM003-BS & EXR-AKRIC157ITEl-AN & sample\\_GBM3\\_exosome\\_clean\\_fq\\\\\n",
       "\t sample\\_GBM1\\_exosome\\_clean\\_fq\\_AKRIC1-GBM\\_exosome-2016-10-17\\_CORE\\_RESULTS\\_v4.6.2.tgz & ftp://ftp.genboree.org/exRNA-atlas/grp/Extracellular\\%20RNA\\%20Atlas/db/exRNA\\%20Repository\\%20-\\%20hg19/file/exRNA-atlas/exceRptPipeline\\_v4.6.2/AKRIC1-GBM\\_exosome-2016-10-17/sample\\_GBM1\\_exosome\\_clean\\_fq/CORE\\_RESULTS/sample\\_GBM1\\_exosome\\_clean\\_fq\\_AKRIC1-GBM\\_exosome-2016-10-17\\_CORE\\_RESULTS\\_v4.6.2.tgz & Sample 1 & glioblastoma multiforme & Culture Media, Conditioned & extracellular exosome & miRCURY RNA isolation kit - Cell \\& Plant (Exiqon) & Cellular analyte & Tumor Tissue & small RNA-Seq & Human & PASS & 5294110 & 5805327 & 0.9119 & EXR-AKRIC1AKGBM001-BS & EXR-AKRIC157ITEl-AN & sample\\_GBM1\\_exosome\\_clean\\_fq\\\\\n",
       "\t sample\\_GBM4\\_exosome\\_clean\\_fq\\_AKRIC1-GBM\\_exosome-2016-10-17\\_CORE\\_RESULTS\\_v4.6.2.tgz & ftp://ftp.genboree.org/exRNA-atlas/grp/Extracellular\\%20RNA\\%20Atlas/db/exRNA\\%20Repository\\%20-\\%20hg19/file/exRNA-atlas/exceRptPipeline\\_v4.6.2/AKRIC1-GBM\\_exosome-2016-10-17/sample\\_GBM4\\_exosome\\_clean\\_fq/CORE\\_RESULTS/sample\\_GBM4\\_exosome\\_clean\\_fq\\_AKRIC1-GBM\\_exosome-2016-10-17\\_CORE\\_RESULTS\\_v4.6.2.tgz & Sample 4 & glioblastoma multiforme & Culture Media, Conditioned & extracellular exosome & miRCURY RNA isolation kit - Cell \\& Plant (Exiqon) & Cellular analyte & Tumor Tissue & small RNA-Seq & Human & PASS & 3560649 & 4124775 & 0.8632 & EXR-AKRIC1AKGBM004-BS & EXR-AKRIC157ITEl-AN & sample\\_GBM4\\_exosome\\_clean\\_fq\\\\\n",
       "\\end{tabular}\n"
      ],
      "text/markdown": [
       "\n",
       "A data.table: 4 × 18\n",
       "\n",
       "| #DOWNLOAD NAME &lt;chr&gt; | DOWNLOAD URL &lt;chr&gt; | BIOSAMPLE NAME &lt;chr&gt; | CONDITION &lt;chr&gt; | BIOFLUID &lt;chr&gt; | RNA SOURCE &lt;chr&gt; | RNA ISOLATION KIT &lt;chr&gt; | ANATOMICAL LOCATION &lt;chr&gt; | CELL CULTURE SOURCE &lt;chr&gt; | PROFILING ASSAY &lt;chr&gt; | SPECIES &lt;chr&gt; | MEETS ERCC QC STANDARDS? &lt;chr&gt; | TRANSCRIPTOME READS &lt;int&gt; | REFERENCE GENOME READS &lt;int&gt; | TRANSCRIPTOME GENOME RATIO &lt;dbl&gt; | BIOSAMPLE ACCESSION ID &lt;chr&gt; | RELATED DATASET ACCESSION ID &lt;chr&gt; | FASTQ IDENTIFIER &lt;chr&gt; |\n",
       "|---|---|---|---|---|---|---|---|---|---|---|---|---|---|---|---|---|---|\n",
       "| sample_GBM2_exosome_clean_fq_AKRIC1-GBM_exosome-2016-10-17_CORE_RESULTS_v4.6.2.tgz | ftp://ftp.genboree.org/exRNA-atlas/grp/Extracellular%20RNA%20Atlas/db/exRNA%20Repository%20-%20hg19/file/exRNA-atlas/exceRptPipeline_v4.6.2/AKRIC1-GBM_exosome-2016-10-17/sample_GBM2_exosome_clean_fq/CORE_RESULTS/sample_GBM2_exosome_clean_fq_AKRIC1-GBM_exosome-2016-10-17_CORE_RESULTS_v4.6.2.tgz | Sample 2 | glioblastoma multiforme | Culture Media, Conditioned | extracellular exosome | miRCURY RNA isolation kit - Cell &amp; Plant (Exiqon) | Cellular analyte | Tumor Tissue | small RNA-Seq | Human | PASS | 5418049 | 6046376 | 0.8961 | EXR-AKRIC1AKGBM002-BS | EXR-AKRIC157ITEl-AN | sample_GBM2_exosome_clean_fq |\n",
       "| sample_GBM3_exosome_clean_fq_AKRIC1-GBM_exosome-2016-10-17_CORE_RESULTS_v4.6.2.tgz | ftp://ftp.genboree.org/exRNA-atlas/grp/Extracellular%20RNA%20Atlas/db/exRNA%20Repository%20-%20hg19/file/exRNA-atlas/exceRptPipeline_v4.6.2/AKRIC1-GBM_exosome-2016-10-17/sample_GBM3_exosome_clean_fq/CORE_RESULTS/sample_GBM3_exosome_clean_fq_AKRIC1-GBM_exosome-2016-10-17_CORE_RESULTS_v4.6.2.tgz | Sample 3 | glioblastoma multiforme | Culture Media, Conditioned | extracellular exosome | miRCURY RNA isolation kit - Cell &amp; Plant (Exiqon) | Cellular analyte | Tumor Tissue | small RNA-Seq | Human | PASS | 3297178 | 3814679 | 0.8643 | EXR-AKRIC1AKGBM003-BS | EXR-AKRIC157ITEl-AN | sample_GBM3_exosome_clean_fq |\n",
       "| sample_GBM1_exosome_clean_fq_AKRIC1-GBM_exosome-2016-10-17_CORE_RESULTS_v4.6.2.tgz | ftp://ftp.genboree.org/exRNA-atlas/grp/Extracellular%20RNA%20Atlas/db/exRNA%20Repository%20-%20hg19/file/exRNA-atlas/exceRptPipeline_v4.6.2/AKRIC1-GBM_exosome-2016-10-17/sample_GBM1_exosome_clean_fq/CORE_RESULTS/sample_GBM1_exosome_clean_fq_AKRIC1-GBM_exosome-2016-10-17_CORE_RESULTS_v4.6.2.tgz | Sample 1 | glioblastoma multiforme | Culture Media, Conditioned | extracellular exosome | miRCURY RNA isolation kit - Cell &amp; Plant (Exiqon) | Cellular analyte | Tumor Tissue | small RNA-Seq | Human | PASS | 5294110 | 5805327 | 0.9119 | EXR-AKRIC1AKGBM001-BS | EXR-AKRIC157ITEl-AN | sample_GBM1_exosome_clean_fq |\n",
       "| sample_GBM4_exosome_clean_fq_AKRIC1-GBM_exosome-2016-10-17_CORE_RESULTS_v4.6.2.tgz | ftp://ftp.genboree.org/exRNA-atlas/grp/Extracellular%20RNA%20Atlas/db/exRNA%20Repository%20-%20hg19/file/exRNA-atlas/exceRptPipeline_v4.6.2/AKRIC1-GBM_exosome-2016-10-17/sample_GBM4_exosome_clean_fq/CORE_RESULTS/sample_GBM4_exosome_clean_fq_AKRIC1-GBM_exosome-2016-10-17_CORE_RESULTS_v4.6.2.tgz | Sample 4 | glioblastoma multiforme | Culture Media, Conditioned | extracellular exosome | miRCURY RNA isolation kit - Cell &amp; Plant (Exiqon) | Cellular analyte | Tumor Tissue | small RNA-Seq | Human | PASS | 3560649 | 4124775 | 0.8632 | EXR-AKRIC1AKGBM004-BS | EXR-AKRIC157ITEl-AN | sample_GBM4_exosome_clean_fq |\n",
       "\n"
      ],
      "text/plain": [
       "  #DOWNLOAD NAME                                                                    \n",
       "1 sample_GBM2_exosome_clean_fq_AKRIC1-GBM_exosome-2016-10-17_CORE_RESULTS_v4.6.2.tgz\n",
       "2 sample_GBM3_exosome_clean_fq_AKRIC1-GBM_exosome-2016-10-17_CORE_RESULTS_v4.6.2.tgz\n",
       "3 sample_GBM1_exosome_clean_fq_AKRIC1-GBM_exosome-2016-10-17_CORE_RESULTS_v4.6.2.tgz\n",
       "4 sample_GBM4_exosome_clean_fq_AKRIC1-GBM_exosome-2016-10-17_CORE_RESULTS_v4.6.2.tgz\n",
       "  DOWNLOAD URL                                                                                                                                                                                                                                                                                          \n",
       "1 ftp://ftp.genboree.org/exRNA-atlas/grp/Extracellular%20RNA%20Atlas/db/exRNA%20Repository%20-%20hg19/file/exRNA-atlas/exceRptPipeline_v4.6.2/AKRIC1-GBM_exosome-2016-10-17/sample_GBM2_exosome_clean_fq/CORE_RESULTS/sample_GBM2_exosome_clean_fq_AKRIC1-GBM_exosome-2016-10-17_CORE_RESULTS_v4.6.2.tgz\n",
       "2 ftp://ftp.genboree.org/exRNA-atlas/grp/Extracellular%20RNA%20Atlas/db/exRNA%20Repository%20-%20hg19/file/exRNA-atlas/exceRptPipeline_v4.6.2/AKRIC1-GBM_exosome-2016-10-17/sample_GBM3_exosome_clean_fq/CORE_RESULTS/sample_GBM3_exosome_clean_fq_AKRIC1-GBM_exosome-2016-10-17_CORE_RESULTS_v4.6.2.tgz\n",
       "3 ftp://ftp.genboree.org/exRNA-atlas/grp/Extracellular%20RNA%20Atlas/db/exRNA%20Repository%20-%20hg19/file/exRNA-atlas/exceRptPipeline_v4.6.2/AKRIC1-GBM_exosome-2016-10-17/sample_GBM1_exosome_clean_fq/CORE_RESULTS/sample_GBM1_exosome_clean_fq_AKRIC1-GBM_exosome-2016-10-17_CORE_RESULTS_v4.6.2.tgz\n",
       "4 ftp://ftp.genboree.org/exRNA-atlas/grp/Extracellular%20RNA%20Atlas/db/exRNA%20Repository%20-%20hg19/file/exRNA-atlas/exceRptPipeline_v4.6.2/AKRIC1-GBM_exosome-2016-10-17/sample_GBM4_exosome_clean_fq/CORE_RESULTS/sample_GBM4_exosome_clean_fq_AKRIC1-GBM_exosome-2016-10-17_CORE_RESULTS_v4.6.2.tgz\n",
       "  BIOSAMPLE NAME CONDITION               BIOFLUID                  \n",
       "1 Sample 2       glioblastoma multiforme Culture Media, Conditioned\n",
       "2 Sample 3       glioblastoma multiforme Culture Media, Conditioned\n",
       "3 Sample 1       glioblastoma multiforme Culture Media, Conditioned\n",
       "4 Sample 4       glioblastoma multiforme Culture Media, Conditioned\n",
       "  RNA SOURCE            RNA ISOLATION KIT                                \n",
       "1 extracellular exosome miRCURY RNA isolation kit - Cell & Plant (Exiqon)\n",
       "2 extracellular exosome miRCURY RNA isolation kit - Cell & Plant (Exiqon)\n",
       "3 extracellular exosome miRCURY RNA isolation kit - Cell & Plant (Exiqon)\n",
       "4 extracellular exosome miRCURY RNA isolation kit - Cell & Plant (Exiqon)\n",
       "  ANATOMICAL LOCATION CELL CULTURE SOURCE PROFILING ASSAY SPECIES\n",
       "1 Cellular analyte    Tumor Tissue        small RNA-Seq   Human  \n",
       "2 Cellular analyte    Tumor Tissue        small RNA-Seq   Human  \n",
       "3 Cellular analyte    Tumor Tissue        small RNA-Seq   Human  \n",
       "4 Cellular analyte    Tumor Tissue        small RNA-Seq   Human  \n",
       "  MEETS ERCC QC STANDARDS? TRANSCRIPTOME READS REFERENCE GENOME READS\n",
       "1 PASS                     5418049             6046376               \n",
       "2 PASS                     3297178             3814679               \n",
       "3 PASS                     5294110             5805327               \n",
       "4 PASS                     3560649             4124775               \n",
       "  TRANSCRIPTOME GENOME RATIO BIOSAMPLE ACCESSION ID\n",
       "1 0.8961                     EXR-AKRIC1AKGBM002-BS \n",
       "2 0.8643                     EXR-AKRIC1AKGBM003-BS \n",
       "3 0.9119                     EXR-AKRIC1AKGBM001-BS \n",
       "4 0.8632                     EXR-AKRIC1AKGBM004-BS \n",
       "  RELATED DATASET ACCESSION ID FASTQ IDENTIFIER            \n",
       "1 EXR-AKRIC157ITEl-AN          sample_GBM2_exosome_clean_fq\n",
       "2 EXR-AKRIC157ITEl-AN          sample_GBM3_exosome_clean_fq\n",
       "3 EXR-AKRIC157ITEl-AN          sample_GBM1_exosome_clean_fq\n",
       "4 EXR-AKRIC157ITEl-AN          sample_GBM4_exosome_clean_fq"
      ]
     },
     "metadata": {},
     "output_type": "display_data"
    }
   ],
   "source": [
    "fread('exRNA_Atlas_CORE_Results_Downloads_Fri-Jun-14-2019-15_05_39-GMT-0400-_EDT_.tsv')"
   ]
  },
  {
   "cell_type": "code",
   "execution_count": 15,
   "metadata": {},
   "outputs": [
    {
     "name": "stdout",
     "output_type": "stream",
     "text": [
      "exRNA_Atlas_Donor_Metadata_Downloads_Fri-Jun-14-2019-15_05_28-GMT-0400-_EDT_.tsv"
     ]
    },
    {
     "data": {
      "text/html": [
       "<table>\n",
       "<caption>A data.table: 4 × 18</caption>\n",
       "<thead>\n",
       "\t<tr><th scope=col>#DOWNLOAD NAME</th><th scope=col>DOWNLOAD URL</th><th scope=col>BIOSAMPLE NAME</th><th scope=col>CONDITION</th><th scope=col>BIOFLUID</th><th scope=col>RNA SOURCE</th><th scope=col>RNA ISOLATION KIT</th><th scope=col>ANATOMICAL LOCATION</th><th scope=col>CELL CULTURE SOURCE</th><th scope=col>PROFILING ASSAY</th><th scope=col>SPECIES</th><th scope=col>MEETS ERCC QC STANDARDS?</th><th scope=col>TRANSCRIPTOME READS</th><th scope=col>REFERENCE GENOME READS</th><th scope=col>TRANSCRIPTOME GENOME RATIO</th><th scope=col>BIOSAMPLE ACCESSION ID</th><th scope=col>RELATED DATASET ACCESSION ID</th><th scope=col>FASTQ IDENTIFIER</th></tr>\n",
       "\t<tr><th scope=col>&lt;chr&gt;</th><th scope=col>&lt;chr&gt;</th><th scope=col>&lt;chr&gt;</th><th scope=col>&lt;chr&gt;</th><th scope=col>&lt;chr&gt;</th><th scope=col>&lt;chr&gt;</th><th scope=col>&lt;chr&gt;</th><th scope=col>&lt;chr&gt;</th><th scope=col>&lt;chr&gt;</th><th scope=col>&lt;chr&gt;</th><th scope=col>&lt;chr&gt;</th><th scope=col>&lt;chr&gt;</th><th scope=col>&lt;int&gt;</th><th scope=col>&lt;int&gt;</th><th scope=col>&lt;dbl&gt;</th><th scope=col>&lt;chr&gt;</th><th scope=col>&lt;chr&gt;</th><th scope=col>&lt;chr&gt;</th></tr>\n",
       "</thead>\n",
       "<tbody>\n",
       "\t<tr><td>EXR-AKRIC1AKGBM002-DO.metadata.tsv</td><td>ftp://ftp.genboree.org/exRNA-atlas/grp/Extracellular%20RNA%20Atlas/db/exRNA%20Repository%20-%20hg19/file/exRNA-atlas/exceRptPipeline_v4.6.2/AKRIC1-GBM_exosome-2016-10-17/metadataFiles/EXR-AKRIC1AKGBM002-DO.metadata.tsv</td><td>Sample 2</td><td>glioblastoma multiforme</td><td>Culture Media, Conditioned</td><td>extracellular exosome</td><td>miRCURY RNA isolation kit - Cell &amp; Plant (Exiqon)</td><td>Cellular analyte</td><td>Tumor Tissue</td><td>small RNA-Seq</td><td>Human</td><td>PASS</td><td>5418049</td><td>6046376</td><td>0.8961</td><td>EXR-AKRIC1AKGBM002-BS</td><td>EXR-AKRIC157ITEl-AN</td><td>sample_GBM2_exosome_clean_fq</td></tr>\n",
       "\t<tr><td>EXR-AKRIC1AKGBM003-DO.metadata.tsv</td><td>ftp://ftp.genboree.org/exRNA-atlas/grp/Extracellular%20RNA%20Atlas/db/exRNA%20Repository%20-%20hg19/file/exRNA-atlas/exceRptPipeline_v4.6.2/AKRIC1-GBM_exosome-2016-10-17/metadataFiles/EXR-AKRIC1AKGBM003-DO.metadata.tsv</td><td>Sample 3</td><td>glioblastoma multiforme</td><td>Culture Media, Conditioned</td><td>extracellular exosome</td><td>miRCURY RNA isolation kit - Cell &amp; Plant (Exiqon)</td><td>Cellular analyte</td><td>Tumor Tissue</td><td>small RNA-Seq</td><td>Human</td><td>PASS</td><td>3297178</td><td>3814679</td><td>0.8643</td><td>EXR-AKRIC1AKGBM003-BS</td><td>EXR-AKRIC157ITEl-AN</td><td>sample_GBM3_exosome_clean_fq</td></tr>\n",
       "\t<tr><td>EXR-AKRIC1AKGBM004-DO.metadata.tsv</td><td>ftp://ftp.genboree.org/exRNA-atlas/grp/Extracellular%20RNA%20Atlas/db/exRNA%20Repository%20-%20hg19/file/exRNA-atlas/exceRptPipeline_v4.6.2/AKRIC1-GBM_exosome-2016-10-17/metadataFiles/EXR-AKRIC1AKGBM004-DO.metadata.tsv</td><td>Sample 4</td><td>glioblastoma multiforme</td><td>Culture Media, Conditioned</td><td>extracellular exosome</td><td>miRCURY RNA isolation kit - Cell &amp; Plant (Exiqon)</td><td>Cellular analyte</td><td>Tumor Tissue</td><td>small RNA-Seq</td><td>Human</td><td>PASS</td><td>3560649</td><td>4124775</td><td>0.8632</td><td>EXR-AKRIC1AKGBM004-BS</td><td>EXR-AKRIC157ITEl-AN</td><td>sample_GBM4_exosome_clean_fq</td></tr>\n",
       "\t<tr><td>EXR-AKRIC1AKGBM001-DO.metadata.tsv</td><td>ftp://ftp.genboree.org/exRNA-atlas/grp/Extracellular%20RNA%20Atlas/db/exRNA%20Repository%20-%20hg19/file/exRNA-atlas/exceRptPipeline_v4.6.2/AKRIC1-GBM_exosome-2016-10-17/metadataFiles/EXR-AKRIC1AKGBM001-DO.metadata.tsv</td><td>Sample 1</td><td>glioblastoma multiforme</td><td>Culture Media, Conditioned</td><td>extracellular exosome</td><td>miRCURY RNA isolation kit - Cell &amp; Plant (Exiqon)</td><td>Cellular analyte</td><td>Tumor Tissue</td><td>small RNA-Seq</td><td>Human</td><td>PASS</td><td>5294110</td><td>5805327</td><td>0.9119</td><td>EXR-AKRIC1AKGBM001-BS</td><td>EXR-AKRIC157ITEl-AN</td><td>sample_GBM1_exosome_clean_fq</td></tr>\n",
       "</tbody>\n",
       "</table>\n"
      ],
      "text/latex": [
       "A data.table: 4 × 18\n",
       "\\begin{tabular}{r|llllllllllllllllll}\n",
       " \\#DOWNLOAD NAME & DOWNLOAD URL & BIOSAMPLE NAME & CONDITION & BIOFLUID & RNA SOURCE & RNA ISOLATION KIT & ANATOMICAL LOCATION & CELL CULTURE SOURCE & PROFILING ASSAY & SPECIES & MEETS ERCC QC STANDARDS? & TRANSCRIPTOME READS & REFERENCE GENOME READS & TRANSCRIPTOME GENOME RATIO & BIOSAMPLE ACCESSION ID & RELATED DATASET ACCESSION ID & FASTQ IDENTIFIER\\\\\n",
       " <chr> & <chr> & <chr> & <chr> & <chr> & <chr> & <chr> & <chr> & <chr> & <chr> & <chr> & <chr> & <int> & <int> & <dbl> & <chr> & <chr> & <chr>\\\\\n",
       "\\hline\n",
       "\t EXR-AKRIC1AKGBM002-DO.metadata.tsv & ftp://ftp.genboree.org/exRNA-atlas/grp/Extracellular\\%20RNA\\%20Atlas/db/exRNA\\%20Repository\\%20-\\%20hg19/file/exRNA-atlas/exceRptPipeline\\_v4.6.2/AKRIC1-GBM\\_exosome-2016-10-17/metadataFiles/EXR-AKRIC1AKGBM002-DO.metadata.tsv & Sample 2 & glioblastoma multiforme & Culture Media, Conditioned & extracellular exosome & miRCURY RNA isolation kit - Cell \\& Plant (Exiqon) & Cellular analyte & Tumor Tissue & small RNA-Seq & Human & PASS & 5418049 & 6046376 & 0.8961 & EXR-AKRIC1AKGBM002-BS & EXR-AKRIC157ITEl-AN & sample\\_GBM2\\_exosome\\_clean\\_fq\\\\\n",
       "\t EXR-AKRIC1AKGBM003-DO.metadata.tsv & ftp://ftp.genboree.org/exRNA-atlas/grp/Extracellular\\%20RNA\\%20Atlas/db/exRNA\\%20Repository\\%20-\\%20hg19/file/exRNA-atlas/exceRptPipeline\\_v4.6.2/AKRIC1-GBM\\_exosome-2016-10-17/metadataFiles/EXR-AKRIC1AKGBM003-DO.metadata.tsv & Sample 3 & glioblastoma multiforme & Culture Media, Conditioned & extracellular exosome & miRCURY RNA isolation kit - Cell \\& Plant (Exiqon) & Cellular analyte & Tumor Tissue & small RNA-Seq & Human & PASS & 3297178 & 3814679 & 0.8643 & EXR-AKRIC1AKGBM003-BS & EXR-AKRIC157ITEl-AN & sample\\_GBM3\\_exosome\\_clean\\_fq\\\\\n",
       "\t EXR-AKRIC1AKGBM004-DO.metadata.tsv & ftp://ftp.genboree.org/exRNA-atlas/grp/Extracellular\\%20RNA\\%20Atlas/db/exRNA\\%20Repository\\%20-\\%20hg19/file/exRNA-atlas/exceRptPipeline\\_v4.6.2/AKRIC1-GBM\\_exosome-2016-10-17/metadataFiles/EXR-AKRIC1AKGBM004-DO.metadata.tsv & Sample 4 & glioblastoma multiforme & Culture Media, Conditioned & extracellular exosome & miRCURY RNA isolation kit - Cell \\& Plant (Exiqon) & Cellular analyte & Tumor Tissue & small RNA-Seq & Human & PASS & 3560649 & 4124775 & 0.8632 & EXR-AKRIC1AKGBM004-BS & EXR-AKRIC157ITEl-AN & sample\\_GBM4\\_exosome\\_clean\\_fq\\\\\n",
       "\t EXR-AKRIC1AKGBM001-DO.metadata.tsv & ftp://ftp.genboree.org/exRNA-atlas/grp/Extracellular\\%20RNA\\%20Atlas/db/exRNA\\%20Repository\\%20-\\%20hg19/file/exRNA-atlas/exceRptPipeline\\_v4.6.2/AKRIC1-GBM\\_exosome-2016-10-17/metadataFiles/EXR-AKRIC1AKGBM001-DO.metadata.tsv & Sample 1 & glioblastoma multiforme & Culture Media, Conditioned & extracellular exosome & miRCURY RNA isolation kit - Cell \\& Plant (Exiqon) & Cellular analyte & Tumor Tissue & small RNA-Seq & Human & PASS & 5294110 & 5805327 & 0.9119 & EXR-AKRIC1AKGBM001-BS & EXR-AKRIC157ITEl-AN & sample\\_GBM1\\_exosome\\_clean\\_fq\\\\\n",
       "\\end{tabular}\n"
      ],
      "text/markdown": [
       "\n",
       "A data.table: 4 × 18\n",
       "\n",
       "| #DOWNLOAD NAME &lt;chr&gt; | DOWNLOAD URL &lt;chr&gt; | BIOSAMPLE NAME &lt;chr&gt; | CONDITION &lt;chr&gt; | BIOFLUID &lt;chr&gt; | RNA SOURCE &lt;chr&gt; | RNA ISOLATION KIT &lt;chr&gt; | ANATOMICAL LOCATION &lt;chr&gt; | CELL CULTURE SOURCE &lt;chr&gt; | PROFILING ASSAY &lt;chr&gt; | SPECIES &lt;chr&gt; | MEETS ERCC QC STANDARDS? &lt;chr&gt; | TRANSCRIPTOME READS &lt;int&gt; | REFERENCE GENOME READS &lt;int&gt; | TRANSCRIPTOME GENOME RATIO &lt;dbl&gt; | BIOSAMPLE ACCESSION ID &lt;chr&gt; | RELATED DATASET ACCESSION ID &lt;chr&gt; | FASTQ IDENTIFIER &lt;chr&gt; |\n",
       "|---|---|---|---|---|---|---|---|---|---|---|---|---|---|---|---|---|---|\n",
       "| EXR-AKRIC1AKGBM002-DO.metadata.tsv | ftp://ftp.genboree.org/exRNA-atlas/grp/Extracellular%20RNA%20Atlas/db/exRNA%20Repository%20-%20hg19/file/exRNA-atlas/exceRptPipeline_v4.6.2/AKRIC1-GBM_exosome-2016-10-17/metadataFiles/EXR-AKRIC1AKGBM002-DO.metadata.tsv | Sample 2 | glioblastoma multiforme | Culture Media, Conditioned | extracellular exosome | miRCURY RNA isolation kit - Cell &amp; Plant (Exiqon) | Cellular analyte | Tumor Tissue | small RNA-Seq | Human | PASS | 5418049 | 6046376 | 0.8961 | EXR-AKRIC1AKGBM002-BS | EXR-AKRIC157ITEl-AN | sample_GBM2_exosome_clean_fq |\n",
       "| EXR-AKRIC1AKGBM003-DO.metadata.tsv | ftp://ftp.genboree.org/exRNA-atlas/grp/Extracellular%20RNA%20Atlas/db/exRNA%20Repository%20-%20hg19/file/exRNA-atlas/exceRptPipeline_v4.6.2/AKRIC1-GBM_exosome-2016-10-17/metadataFiles/EXR-AKRIC1AKGBM003-DO.metadata.tsv | Sample 3 | glioblastoma multiforme | Culture Media, Conditioned | extracellular exosome | miRCURY RNA isolation kit - Cell &amp; Plant (Exiqon) | Cellular analyte | Tumor Tissue | small RNA-Seq | Human | PASS | 3297178 | 3814679 | 0.8643 | EXR-AKRIC1AKGBM003-BS | EXR-AKRIC157ITEl-AN | sample_GBM3_exosome_clean_fq |\n",
       "| EXR-AKRIC1AKGBM004-DO.metadata.tsv | ftp://ftp.genboree.org/exRNA-atlas/grp/Extracellular%20RNA%20Atlas/db/exRNA%20Repository%20-%20hg19/file/exRNA-atlas/exceRptPipeline_v4.6.2/AKRIC1-GBM_exosome-2016-10-17/metadataFiles/EXR-AKRIC1AKGBM004-DO.metadata.tsv | Sample 4 | glioblastoma multiforme | Culture Media, Conditioned | extracellular exosome | miRCURY RNA isolation kit - Cell &amp; Plant (Exiqon) | Cellular analyte | Tumor Tissue | small RNA-Seq | Human | PASS | 3560649 | 4124775 | 0.8632 | EXR-AKRIC1AKGBM004-BS | EXR-AKRIC157ITEl-AN | sample_GBM4_exosome_clean_fq |\n",
       "| EXR-AKRIC1AKGBM001-DO.metadata.tsv | ftp://ftp.genboree.org/exRNA-atlas/grp/Extracellular%20RNA%20Atlas/db/exRNA%20Repository%20-%20hg19/file/exRNA-atlas/exceRptPipeline_v4.6.2/AKRIC1-GBM_exosome-2016-10-17/metadataFiles/EXR-AKRIC1AKGBM001-DO.metadata.tsv | Sample 1 | glioblastoma multiforme | Culture Media, Conditioned | extracellular exosome | miRCURY RNA isolation kit - Cell &amp; Plant (Exiqon) | Cellular analyte | Tumor Tissue | small RNA-Seq | Human | PASS | 5294110 | 5805327 | 0.9119 | EXR-AKRIC1AKGBM001-BS | EXR-AKRIC157ITEl-AN | sample_GBM1_exosome_clean_fq |\n",
       "\n"
      ],
      "text/plain": [
       "  #DOWNLOAD NAME                    \n",
       "1 EXR-AKRIC1AKGBM002-DO.metadata.tsv\n",
       "2 EXR-AKRIC1AKGBM003-DO.metadata.tsv\n",
       "3 EXR-AKRIC1AKGBM004-DO.metadata.tsv\n",
       "4 EXR-AKRIC1AKGBM001-DO.metadata.tsv\n",
       "  DOWNLOAD URL                                                                                                                                                                                                              \n",
       "1 ftp://ftp.genboree.org/exRNA-atlas/grp/Extracellular%20RNA%20Atlas/db/exRNA%20Repository%20-%20hg19/file/exRNA-atlas/exceRptPipeline_v4.6.2/AKRIC1-GBM_exosome-2016-10-17/metadataFiles/EXR-AKRIC1AKGBM002-DO.metadata.tsv\n",
       "2 ftp://ftp.genboree.org/exRNA-atlas/grp/Extracellular%20RNA%20Atlas/db/exRNA%20Repository%20-%20hg19/file/exRNA-atlas/exceRptPipeline_v4.6.2/AKRIC1-GBM_exosome-2016-10-17/metadataFiles/EXR-AKRIC1AKGBM003-DO.metadata.tsv\n",
       "3 ftp://ftp.genboree.org/exRNA-atlas/grp/Extracellular%20RNA%20Atlas/db/exRNA%20Repository%20-%20hg19/file/exRNA-atlas/exceRptPipeline_v4.6.2/AKRIC1-GBM_exosome-2016-10-17/metadataFiles/EXR-AKRIC1AKGBM004-DO.metadata.tsv\n",
       "4 ftp://ftp.genboree.org/exRNA-atlas/grp/Extracellular%20RNA%20Atlas/db/exRNA%20Repository%20-%20hg19/file/exRNA-atlas/exceRptPipeline_v4.6.2/AKRIC1-GBM_exosome-2016-10-17/metadataFiles/EXR-AKRIC1AKGBM001-DO.metadata.tsv\n",
       "  BIOSAMPLE NAME CONDITION               BIOFLUID                  \n",
       "1 Sample 2       glioblastoma multiforme Culture Media, Conditioned\n",
       "2 Sample 3       glioblastoma multiforme Culture Media, Conditioned\n",
       "3 Sample 4       glioblastoma multiforme Culture Media, Conditioned\n",
       "4 Sample 1       glioblastoma multiforme Culture Media, Conditioned\n",
       "  RNA SOURCE            RNA ISOLATION KIT                                \n",
       "1 extracellular exosome miRCURY RNA isolation kit - Cell & Plant (Exiqon)\n",
       "2 extracellular exosome miRCURY RNA isolation kit - Cell & Plant (Exiqon)\n",
       "3 extracellular exosome miRCURY RNA isolation kit - Cell & Plant (Exiqon)\n",
       "4 extracellular exosome miRCURY RNA isolation kit - Cell & Plant (Exiqon)\n",
       "  ANATOMICAL LOCATION CELL CULTURE SOURCE PROFILING ASSAY SPECIES\n",
       "1 Cellular analyte    Tumor Tissue        small RNA-Seq   Human  \n",
       "2 Cellular analyte    Tumor Tissue        small RNA-Seq   Human  \n",
       "3 Cellular analyte    Tumor Tissue        small RNA-Seq   Human  \n",
       "4 Cellular analyte    Tumor Tissue        small RNA-Seq   Human  \n",
       "  MEETS ERCC QC STANDARDS? TRANSCRIPTOME READS REFERENCE GENOME READS\n",
       "1 PASS                     5418049             6046376               \n",
       "2 PASS                     3297178             3814679               \n",
       "3 PASS                     3560649             4124775               \n",
       "4 PASS                     5294110             5805327               \n",
       "  TRANSCRIPTOME GENOME RATIO BIOSAMPLE ACCESSION ID\n",
       "1 0.8961                     EXR-AKRIC1AKGBM002-BS \n",
       "2 0.8643                     EXR-AKRIC1AKGBM003-BS \n",
       "3 0.8632                     EXR-AKRIC1AKGBM004-BS \n",
       "4 0.9119                     EXR-AKRIC1AKGBM001-BS \n",
       "  RELATED DATASET ACCESSION ID FASTQ IDENTIFIER            \n",
       "1 EXR-AKRIC157ITEl-AN          sample_GBM2_exosome_clean_fq\n",
       "2 EXR-AKRIC157ITEl-AN          sample_GBM3_exosome_clean_fq\n",
       "3 EXR-AKRIC157ITEl-AN          sample_GBM4_exosome_clean_fq\n",
       "4 EXR-AKRIC157ITEl-AN          sample_GBM1_exosome_clean_fq"
      ]
     },
     "metadata": {},
     "output_type": "display_data"
    }
   ],
   "source": [
    "cat(fnames[3])\n",
    "#download.linked.files(fnames[3])\n",
    "fread(fnames[3])"
   ]
  },
  {
   "cell_type": "code",
   "execution_count": 18,
   "metadata": {},
   "outputs": [
    {
     "name": "stdout",
     "output_type": "stream",
     "text": [
      "exRNA_Atlas_Experiment_Metadata_Downloads_Fri-Jun-14-2019-15_05_24-GMT-0400-_EDT_.tsvftp://ftp.genboree.org/exRNA-atlas/grp/Extracellular%20RNA%20Atlas/db/exRNA%20Repository%20-%20hg19/file/exRNA-atlas/exceRptPipeline_v4.6.2/AKRIC1-GBM_exosome-2016-10-17/metadataFiles/EXR-AKRIC1AKGBMexo-EX.metadata.tsv EXR-AKRIC1AKGBMexo-EX.metadata.tsv \n",
      "NA NA \n"
     ]
    },
    {
     "ename": "ERROR",
     "evalue": "Error in curl_download(url, filename): Could not resolve host: NA\n",
     "output_type": "error",
     "traceback": [
      "Error in curl_download(url, filename): Could not resolve host: NA\nTraceback:\n",
      "1. download.linked.files(fnames[4])",
      "2. curl_download(url, filename)   # at line 13 of file <text>"
     ]
    }
   ],
   "source": [
    "cat(fnames[4])\n",
    "download.linked.files(fnames[4])\n",
    "fread(fnames[4])"
   ]
  },
  {
   "cell_type": "code",
   "execution_count": 21,
   "metadata": {},
   "outputs": [
    {
     "data": {
      "text/html": [
       "<ol class=list-inline>\n",
       "\t<li>'CORE_RESULTS'</li>\n",
       "\t<li>'EXR-AKRIC1-metadata'</li>\n",
       "\t<li>'EXR-AKRIC1.ipynb'</li>\n",
       "\t<li>'exRNA_Atlas_Biosample_Metadata_Downloads_Fri-Jun-14-2019-15_05_20-GMT-0400-_EDT_.tsv'</li>\n",
       "\t<li>'exRNA_Atlas_CORE_Results_Downloads_Fri-Jun-14-2019-15_05_39-GMT-0400-_EDT_.tsv'</li>\n",
       "\t<li>'exRNA_Atlas_Donor_Metadata_Downloads_Fri-Jun-14-2019-15_05_28-GMT-0400-_EDT_.tsv'</li>\n",
       "\t<li>'exRNA_Atlas_Experiment_Metadata_Downloads_Fri-Jun-14-2019-15_05_24-GMT-0400-_EDT_.tsv'</li>\n",
       "\t<li>'exRNA_Atlas_FASTQ_Downloads_Fri-Jun-14-2019-15_05_47-GMT-0400-(EDT).tsv'</li>\n",
       "\t<li>'NA'</li>\n",
       "\t<li>'sample_GBM1_exosome_clean_fq_AKRIC1-GBM_exosome-2016-10-17_CORE_RESULTS_v4.6.2.tgz'</li>\n",
       "\t<li>'sample_GBM2_exosome_clean_fq_AKRIC1-GBM_exosome-2016-10-17_CORE_RESULTS_v4.6.2.tgz'</li>\n",
       "\t<li>'sample_GBM3_exosome_clean_fq_AKRIC1-GBM_exosome-2016-10-17_CORE_RESULTS_v4.6.2.tgz'</li>\n",
       "\t<li>'sample_GBM4_exosome_clean_fq_AKRIC1-GBM_exosome-2016-10-17_CORE_RESULTS_v4.6.2.tgz'</li>\n",
       "</ol>\n"
      ],
      "text/latex": [
       "\\begin{enumerate*}\n",
       "\\item 'CORE\\_RESULTS'\n",
       "\\item 'EXR-AKRIC1-metadata'\n",
       "\\item 'EXR-AKRIC1.ipynb'\n",
       "\\item 'exRNA\\_Atlas\\_Biosample\\_Metadata\\_Downloads\\_Fri-Jun-14-2019-15\\_05\\_20-GMT-0400-\\_EDT\\_.tsv'\n",
       "\\item 'exRNA\\_Atlas\\_CORE\\_Results\\_Downloads\\_Fri-Jun-14-2019-15\\_05\\_39-GMT-0400-\\_EDT\\_.tsv'\n",
       "\\item 'exRNA\\_Atlas\\_Donor\\_Metadata\\_Downloads\\_Fri-Jun-14-2019-15\\_05\\_28-GMT-0400-\\_EDT\\_.tsv'\n",
       "\\item 'exRNA\\_Atlas\\_Experiment\\_Metadata\\_Downloads\\_Fri-Jun-14-2019-15\\_05\\_24-GMT-0400-\\_EDT\\_.tsv'\n",
       "\\item 'exRNA\\_Atlas\\_FASTQ\\_Downloads\\_Fri-Jun-14-2019-15\\_05\\_47-GMT-0400-(EDT).tsv'\n",
       "\\item 'NA'\n",
       "\\item 'sample\\_GBM1\\_exosome\\_clean\\_fq\\_AKRIC1-GBM\\_exosome-2016-10-17\\_CORE\\_RESULTS\\_v4.6.2.tgz'\n",
       "\\item 'sample\\_GBM2\\_exosome\\_clean\\_fq\\_AKRIC1-GBM\\_exosome-2016-10-17\\_CORE\\_RESULTS\\_v4.6.2.tgz'\n",
       "\\item 'sample\\_GBM3\\_exosome\\_clean\\_fq\\_AKRIC1-GBM\\_exosome-2016-10-17\\_CORE\\_RESULTS\\_v4.6.2.tgz'\n",
       "\\item 'sample\\_GBM4\\_exosome\\_clean\\_fq\\_AKRIC1-GBM\\_exosome-2016-10-17\\_CORE\\_RESULTS\\_v4.6.2.tgz'\n",
       "\\end{enumerate*}\n"
      ],
      "text/markdown": [
       "1. 'CORE_RESULTS'\n",
       "2. 'EXR-AKRIC1-metadata'\n",
       "3. 'EXR-AKRIC1.ipynb'\n",
       "4. 'exRNA_Atlas_Biosample_Metadata_Downloads_Fri-Jun-14-2019-15_05_20-GMT-0400-_EDT_.tsv'\n",
       "5. 'exRNA_Atlas_CORE_Results_Downloads_Fri-Jun-14-2019-15_05_39-GMT-0400-_EDT_.tsv'\n",
       "6. 'exRNA_Atlas_Donor_Metadata_Downloads_Fri-Jun-14-2019-15_05_28-GMT-0400-_EDT_.tsv'\n",
       "7. 'exRNA_Atlas_Experiment_Metadata_Downloads_Fri-Jun-14-2019-15_05_24-GMT-0400-_EDT_.tsv'\n",
       "8. 'exRNA_Atlas_FASTQ_Downloads_Fri-Jun-14-2019-15_05_47-GMT-0400-(EDT).tsv'\n",
       "9. 'NA'\n",
       "10. 'sample_GBM1_exosome_clean_fq_AKRIC1-GBM_exosome-2016-10-17_CORE_RESULTS_v4.6.2.tgz'\n",
       "11. 'sample_GBM2_exosome_clean_fq_AKRIC1-GBM_exosome-2016-10-17_CORE_RESULTS_v4.6.2.tgz'\n",
       "12. 'sample_GBM3_exosome_clean_fq_AKRIC1-GBM_exosome-2016-10-17_CORE_RESULTS_v4.6.2.tgz'\n",
       "13. 'sample_GBM4_exosome_clean_fq_AKRIC1-GBM_exosome-2016-10-17_CORE_RESULTS_v4.6.2.tgz'\n",
       "\n",
       "\n"
      ],
      "text/plain": [
       " [1] \"CORE_RESULTS\"                                                                         \n",
       " [2] \"EXR-AKRIC1-metadata\"                                                                  \n",
       " [3] \"EXR-AKRIC1.ipynb\"                                                                     \n",
       " [4] \"exRNA_Atlas_Biosample_Metadata_Downloads_Fri-Jun-14-2019-15_05_20-GMT-0400-_EDT_.tsv\" \n",
       " [5] \"exRNA_Atlas_CORE_Results_Downloads_Fri-Jun-14-2019-15_05_39-GMT-0400-_EDT_.tsv\"       \n",
       " [6] \"exRNA_Atlas_Donor_Metadata_Downloads_Fri-Jun-14-2019-15_05_28-GMT-0400-_EDT_.tsv\"     \n",
       " [7] \"exRNA_Atlas_Experiment_Metadata_Downloads_Fri-Jun-14-2019-15_05_24-GMT-0400-_EDT_.tsv\"\n",
       " [8] \"exRNA_Atlas_FASTQ_Downloads_Fri-Jun-14-2019-15_05_47-GMT-0400-(EDT).tsv\"              \n",
       " [9] \"NA\"                                                                                   \n",
       "[10] \"sample_GBM1_exosome_clean_fq_AKRIC1-GBM_exosome-2016-10-17_CORE_RESULTS_v4.6.2.tgz\"   \n",
       "[11] \"sample_GBM2_exosome_clean_fq_AKRIC1-GBM_exosome-2016-10-17_CORE_RESULTS_v4.6.2.tgz\"   \n",
       "[12] \"sample_GBM3_exosome_clean_fq_AKRIC1-GBM_exosome-2016-10-17_CORE_RESULTS_v4.6.2.tgz\"   \n",
       "[13] \"sample_GBM4_exosome_clean_fq_AKRIC1-GBM_exosome-2016-10-17_CORE_RESULTS_v4.6.2.tgz\"   "
      ]
     },
     "metadata": {},
     "output_type": "display_data"
    }
   ],
   "source": [
    "list.files()"
   ]
  },
  {
   "cell_type": "code",
   "execution_count": 20,
   "metadata": {},
   "outputs": [],
   "source": [
    "#system('mv *.metadata.tsv EXR-AKRIC1-metadata/')"
   ]
  },
  {
   "cell_type": "code",
   "execution_count": null,
   "metadata": {},
   "outputs": [],
   "source": []
  },
  {
   "cell_type": "code",
   "execution_count": null,
   "metadata": {},
   "outputs": [],
   "source": []
  },
  {
   "cell_type": "code",
   "execution_count": null,
   "metadata": {},
   "outputs": [],
   "source": []
  },
  {
   "cell_type": "code",
   "execution_count": null,
   "metadata": {},
   "outputs": [],
   "source": []
  },
  {
   "cell_type": "code",
   "execution_count": null,
   "metadata": {},
   "outputs": [],
   "source": []
  },
  {
   "cell_type": "code",
   "execution_count": null,
   "metadata": {},
   "outputs": [],
   "source": []
  },
  {
   "cell_type": "code",
   "execution_count": null,
   "metadata": {},
   "outputs": [],
   "source": []
  },
  {
   "cell_type": "code",
   "execution_count": null,
   "metadata": {},
   "outputs": [],
   "source": []
  },
  {
   "cell_type": "code",
   "execution_count": null,
   "metadata": {},
   "outputs": [],
   "source": []
  },
  {
   "cell_type": "code",
   "execution_count": null,
   "metadata": {},
   "outputs": [],
   "source": []
  },
  {
   "cell_type": "code",
   "execution_count": null,
   "metadata": {},
   "outputs": [],
   "source": []
  },
  {
   "cell_type": "code",
   "execution_count": null,
   "metadata": {},
   "outputs": [],
   "source": []
  },
  {
   "cell_type": "code",
   "execution_count": null,
   "metadata": {},
   "outputs": [],
   "source": []
  }
 ],
 "metadata": {
  "kernelspec": {
   "display_name": "R (brew)",
   "language": "R",
   "name": "ir"
  },
  "language_info": {
   "codemirror_mode": "r",
   "file_extension": ".r",
   "mimetype": "text/x-r-source",
   "name": "R",
   "pygments_lexer": "r",
   "version": "3.6.0"
  }
 },
 "nbformat": 4,
 "nbformat_minor": 2
}
